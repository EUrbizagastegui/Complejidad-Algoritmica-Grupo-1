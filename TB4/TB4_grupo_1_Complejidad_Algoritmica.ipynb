{
  "nbformat": 4,
  "nbformat_minor": 0,
  "metadata": {
    "colab": {
      "provenance": [],
      "collapsed_sections": []
    },
    "kernelspec": {
      "name": "python3",
      "display_name": "Python 3"
    },
    "language_info": {
      "name": "python"
    }
  },
  "cells": [
    {
      "cell_type": "code",
      "execution_count": 73,
      "metadata": {
        "id": "kuESiUTbHe7O"
      },
      "outputs": [],
      "source": [
        "import sys\n",
        "from heapq import heapify, heappush, heappop\n",
        "\n",
        "def printDijkstra(grafo,inicio,final):\n",
        "  inf = sys.maxsize\n",
        "  informacionNodo = {\n",
        "      'El_Fogón_Del_Asador_Parrillas_y_Cocina_Rústica_MAGDALENA':{'costo':inf,'pred':[]},\n",
        "      'El_Barquero_Restaurante':{'costo':inf,'pred':[]},\n",
        "      'Los_Esteros_De_Tumbes':{'costo':inf,'pred':[]},\n",
        "      'La_Antojería_Juan_de_Aliaga':{'costo':inf,'pred':[]},\n",
        "      'Mar_de_Mares':{'costo':inf,'pred':[]},\n",
        "      'Elia':{'costo':inf,'pred':[]}\n",
        "    }\n",
        "  informacionNodo[inicio]['costo'] = 0\n",
        "  visitado = []\n",
        "  aux = inicio\n",
        "  for i in range(5):\n",
        "    if aux not in visitado:\n",
        "      visitado.append(aux)\n",
        "      min_heap = []\n",
        "      for j in grafo[aux]:\n",
        "        if j not in visitado:\n",
        "          costo = informacionNodo[aux]['costo'] + grafo[aux][j]\n",
        "          if costo < informacionNodo[j]['costo']:\n",
        "            informacionNodo[j]['costo'] = costo\n",
        "            informacionNodo[j]['pred'] = informacionNodo[aux]['pred'] + [aux]\n",
        "          heappush(min_heap,(informacionNodo[j]['costo'],j))\n",
        "    heapify(min_heap)\n",
        "    aux = min_heap[0][1]\n",
        "  \n",
        "  linea=\"\"\n",
        "\n",
        "  for element in range(len(informacionNodo[final]['pred'])):\n",
        "    if element != len(informacionNodo[final]['pred']) - 1:\n",
        "      linea+=str(informacionNodo[final]['pred'][element])+\"->\"+str(informacionNodo[final]['pred'][element+1])+\";\"\n",
        "    else:\n",
        "      linea+=str(informacionNodo[final]['pred'][element])+\"->\"+str(final)\n",
        "\n",
        "  print(\"La ruta optima es:\")\n",
        "  print(linea)\n",
        "  print(\"Y tiene un peso de:\")\n",
        "  print(str(informacionNodo[final]['costo']))"
      ]
    },
    {
      "cell_type": "code",
      "source": [
        "import sys\n",
        "from heapq import heapify, heappush, heappop\n",
        "\n",
        "def dijkstra(grafo,inicio,final):\n",
        "    inf = sys.maxsize\n",
        "    informacionNodo = {\n",
        "        'El_Fogón_Del_Asador_Parrillas_y_Cocina_Rústica_MAGDALENA':{'costo':inf,'pred':[]},\n",
        "        'El_Barquero_Restaurante':{'costo':inf,'pred':[]},\n",
        "        'Los_Esteros_De_Tumbes':{'costo':inf,'pred':[]},\n",
        "        'La_Antojería_Juan_de_Aliaga':{'costo':inf,'pred':[]},\n",
        "        'Mar_de_Mares':{'costo':inf,'pred':[]},\n",
        "        'Elia':{'costo':inf,'pred':[]}\n",
        "    }\n",
        "    informacionNodo[inicio]['costo'] = 0\n",
        "    visitado = []\n",
        "    aux = inicio\n",
        "    for i in range(5):\n",
        "        if aux not in visitado: # TODO: Reassign source\n",
        "            visitado.append(aux)\n",
        "            min_heap = []\n",
        "            for j in grafo[aux]:\n",
        "                if j not in visitado:\n",
        "                    costo = informacionNodo[aux]['costo'] + grafo[aux][j]\n",
        "                    if costo < informacionNodo[j]['costo']:\n",
        "                        informacionNodo[j]['costo'] = costo\n",
        "                        informacionNodo[j]['pred'] = informacionNodo[aux]['pred'] + [aux]\n",
        "                    heappush(min_heap,(informacionNodo[j]['costo'],j))\n",
        "        heapify(min_heap)\n",
        "        aux = min_heap[0][1]\n",
        "    \n",
        "    linea=\"digraph grafod1{\" #+\"}\"\n",
        "\n",
        "    for element in range(len(informacionNodo[final]['pred'])):\n",
        "      if element != len(informacionNodo[final]['pred']) - 1:\n",
        "        linea+=str(informacionNodo[final]['pred'][element])+\"->\"+str(informacionNodo[final]['pred'][element+1])+\";\"\n",
        "      else:\n",
        "        linea+=str(informacionNodo[final]['pred'][element])+\"->\"+str(final)+\";}\"\n",
        "    \n",
        "    return linea"
      ],
      "metadata": {
        "id": "HHn7PRf7zIq1"
      },
      "execution_count": 74,
      "outputs": []
    },
    {
      "cell_type": "code",
      "source": [
        "import graphviz as gv\n",
        "\n",
        "grafo = {\n",
        "        \n",
        "        'El_Fogón_Del_Asador_Parrillas_y_Cocina_Rústica_MAGDALENA':{'El_Barquero_Restaurante':2,'Los_Esteros_De_Tumbes':4},\n",
        "        'El_Barquero_Restaurante':{'El_Fogón_Del_Asador_Parrillas_y_Cocina_Rústica_MAGDALENA':2,'Los_Esteros_De_Tumbes':3,'La_Antojería_Juan_de_Aliaga':8},\n",
        "        'Los_Esteros_De_Tumbes':{'El_Fogón_Del_Asador_Parrillas_y_Cocina_Rústica_MAGDALENA':4,'El_Barquero_Restaurante':3,'Mar_de_Mares':5,'La_Antojería_Juan_de_Aliaga':2},\n",
        "        'La_Antojería_Juan_de_Aliaga':{'El_Barquero_Restaurante':8,'Los_Esteros_De_Tumbes':2,'Mar_de_Mares':11,'Elia':22},\n",
        "        'Mar_de_Mares':{'Los_Esteros_De_Tumbes':5,'La_Antojería_Juan_de_Aliaga':11,'Elia':1},\n",
        "        'Elia':{'La_Antojería_Juan_de_Aliaga':22,'Mar_de_Mares':1}\n",
        "        }\n",
        "\n",
        "source = 'El_Fogón_Del_Asador_Parrillas_y_Cocina_Rústica_MAGDALENA'\n",
        "final = 'Elia'\n",
        "\n",
        "a=dijkstra(grafo,source,final)\n",
        "printDijkstra(grafo,source,final)\n",
        "gv.Source(a)"
      ],
      "metadata": {
        "colab": {
          "base_uri": "https://localhost:8080/",
          "height": 437
        },
        "id": "rxyPhPxmIcVo",
        "outputId": "861a6c45-ddc3-48dc-c621-1be6a0511b95"
      },
      "execution_count": 75,
      "outputs": [
        {
          "output_type": "stream",
          "name": "stdout",
          "text": [
            "La ruta optima es:\n",
            "El_Fogón_Del_Asador_Parrillas_y_Cocina_Rústica_MAGDALENA->Los_Esteros_De_Tumbes;Los_Esteros_De_Tumbes->Mar_de_Mares;Mar_de_Mares->Elia\n",
            "Y tiene un peso de:\n",
            "10\n"
          ]
        },
        {
          "output_type": "execute_result",
          "data": {
            "text/plain": [
              "<graphviz.files.Source at 0x7f0ea440f6d0>"
            ],
            "image/svg+xml": "<?xml version=\"1.0\" encoding=\"UTF-8\" standalone=\"no\"?>\n<!DOCTYPE svg PUBLIC \"-//W3C//DTD SVG 1.1//EN\"\n \"http://www.w3.org/Graphics/SVG/1.1/DTD/svg11.dtd\">\n<!-- Generated by graphviz version 2.40.1 (20161225.0304)\n -->\n<!-- Title: grafod1 Pages: 1 -->\n<svg width=\"553pt\" height=\"260pt\"\n viewBox=\"0.00 0.00 552.65 260.00\" xmlns=\"http://www.w3.org/2000/svg\" xmlns:xlink=\"http://www.w3.org/1999/xlink\">\n<g id=\"graph0\" class=\"graph\" transform=\"scale(1 1) rotate(0) translate(4 256)\">\n<title>grafod1</title>\n<polygon fill=\"#ffffff\" stroke=\"transparent\" points=\"-4,4 -4,-256 548.6517,-256 548.6517,4 -4,4\"/>\n<!-- El_Fogón_Del_Asador_Parrillas_y_Cocina_Rústica_MAGDALENA -->\n<g id=\"node1\" class=\"node\">\n<title>El_Fogón_Del_Asador_Parrillas_y_Cocina_Rústica_MAGDALENA</title>\n<ellipse fill=\"none\" stroke=\"#000000\" cx=\"272.3258\" cy=\"-234\" rx=\"272.1518\" ry=\"18\"/>\n<text text-anchor=\"middle\" x=\"272.3258\" y=\"-230.3\" font-family=\"Times,serif\" font-size=\"14.00\" fill=\"#000000\">El_Fogón_Del_Asador_Parrillas_y_Cocina_Rústica_MAGDALENA</text>\n</g>\n<!-- Los_Esteros_De_Tumbes -->\n<g id=\"node2\" class=\"node\">\n<title>Los_Esteros_De_Tumbes</title>\n<ellipse fill=\"none\" stroke=\"#000000\" cx=\"272.3258\" cy=\"-162\" rx=\"106.6812\" ry=\"18\"/>\n<text text-anchor=\"middle\" x=\"272.3258\" y=\"-158.3\" font-family=\"Times,serif\" font-size=\"14.00\" fill=\"#000000\">Los_Esteros_De_Tumbes</text>\n</g>\n<!-- El_Fogón_Del_Asador_Parrillas_y_Cocina_Rústica_MAGDALENA&#45;&gt;Los_Esteros_De_Tumbes -->\n<g id=\"edge1\" class=\"edge\">\n<title>El_Fogón_Del_Asador_Parrillas_y_Cocina_Rústica_MAGDALENA&#45;&gt;Los_Esteros_De_Tumbes</title>\n<path fill=\"none\" stroke=\"#000000\" d=\"M272.3258,-215.8314C272.3258,-208.131 272.3258,-198.9743 272.3258,-190.4166\"/>\n<polygon fill=\"#000000\" stroke=\"#000000\" points=\"275.8259,-190.4132 272.3258,-180.4133 268.8259,-190.4133 275.8259,-190.4132\"/>\n</g>\n<!-- Mar_de_Mares -->\n<g id=\"node3\" class=\"node\">\n<title>Mar_de_Mares</title>\n<ellipse fill=\"none\" stroke=\"#000000\" cx=\"272.3258\" cy=\"-90\" rx=\"66.8882\" ry=\"18\"/>\n<text text-anchor=\"middle\" x=\"272.3258\" y=\"-86.3\" font-family=\"Times,serif\" font-size=\"14.00\" fill=\"#000000\">Mar_de_Mares</text>\n</g>\n<!-- Los_Esteros_De_Tumbes&#45;&gt;Mar_de_Mares -->\n<g id=\"edge2\" class=\"edge\">\n<title>Los_Esteros_De_Tumbes&#45;&gt;Mar_de_Mares</title>\n<path fill=\"none\" stroke=\"#000000\" d=\"M272.3258,-143.8314C272.3258,-136.131 272.3258,-126.9743 272.3258,-118.4166\"/>\n<polygon fill=\"#000000\" stroke=\"#000000\" points=\"275.8259,-118.4132 272.3258,-108.4133 268.8259,-118.4133 275.8259,-118.4132\"/>\n</g>\n<!-- Elia -->\n<g id=\"node4\" class=\"node\">\n<title>Elia</title>\n<ellipse fill=\"none\" stroke=\"#000000\" cx=\"272.3258\" cy=\"-18\" rx=\"27\" ry=\"18\"/>\n<text text-anchor=\"middle\" x=\"272.3258\" y=\"-14.3\" font-family=\"Times,serif\" font-size=\"14.00\" fill=\"#000000\">Elia</text>\n</g>\n<!-- Mar_de_Mares&#45;&gt;Elia -->\n<g id=\"edge3\" class=\"edge\">\n<title>Mar_de_Mares&#45;&gt;Elia</title>\n<path fill=\"none\" stroke=\"#000000\" d=\"M272.3258,-71.8314C272.3258,-64.131 272.3258,-54.9743 272.3258,-46.4166\"/>\n<polygon fill=\"#000000\" stroke=\"#000000\" points=\"275.8259,-46.4132 272.3258,-36.4133 268.8259,-46.4133 275.8259,-46.4132\"/>\n</g>\n</g>\n</svg>\n"
          },
          "metadata": {},
          "execution_count": 75
        }
      ]
    }
  ]
}